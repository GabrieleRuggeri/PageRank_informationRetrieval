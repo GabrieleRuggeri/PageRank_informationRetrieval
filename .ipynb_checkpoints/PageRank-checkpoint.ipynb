{
 "cells": [
  {
   "cell_type": "markdown",
   "id": "6d9fc2a8-2d8c-4b2b-87f5-3063527863c0",
   "metadata": {},
   "source": [
    "# PageRank Project #7"
   ]
  },
  {
   "cell_type": "markdown",
   "id": "c4ad71f3-fd99-4a13-8d30-8a37c67d7187",
   "metadata": {},
   "source": [
    "In this project i will implement the PageRank algorithm, originally developed by Google in 1998 to rank websites. After the implementation details I will provide some experiments where, given a dataset of websites and links between them, I will consider the underlying network/graph and compute the rank of every page. Since the PageRank algorithm takes into account the possibility for the user of jumping between unlinked pages. I will perform some experiments where I vary the parameter $\\alpha$ which regulates the probability of randomly jumping in the graph, and analyze the results."
   ]
  },
  {
   "cell_type": "markdown",
   "id": "65d939bf-fe0c-41fd-981c-73ea30ee032f",
   "metadata": {},
   "source": [
    "## Load and Prepare the Data"
   ]
  },
  {
   "cell_type": "markdown",
   "id": "5ddf09e3-b4dd-4cbf-ad78-a94483f9268e",
   "metadata": {},
   "source": [
    "Let's import the dataset and perform some modifications to make it more readable.\n",
    "In a txt file we have the list of 9664 websites and of 16150 links connecting them. I will store these data in two separate pandas dataframe. "
   ]
  },
  {
   "cell_type": "markdown",
   "id": "36bc0dfe-4f2a-4c73-90df-c338d4378f70",
   "metadata": {},
   "source": [
    "In the code I will use equivalently:\n",
    "\n",
    "website <--> node\n",
    "\n",
    "link    <--> edge  "
   ]
  },
  {
   "cell_type": "code",
   "execution_count": 39,
   "id": "f8a2968e-af7a-4118-8f8b-3481be337d08",
   "metadata": {},
   "outputs": [],
   "source": [
    "import numpy as np\n",
    "import pandas as pd\n",
    "\n",
    "# Data Source:\n",
    "# http://www.cs.cornell.edu/courses/cs685/2002fa/data/gr0.California\n",
    "\n",
    "\n",
    "nodes = pd.read_csv('GraphDB.txt',\n",
    "                     sep = ' ',\n",
    "                     nrows = 9664)"
   ]
  },
  {
   "cell_type": "code",
   "execution_count": 40,
   "id": "727f5c16-7dd8-4c3a-9084-ff92e934d2b1",
   "metadata": {},
   "outputs": [
    {
     "data": {
      "text/html": [
       "<div>\n",
       "<style scoped>\n",
       "    .dataframe tbody tr th:only-of-type {\n",
       "        vertical-align: middle;\n",
       "    }\n",
       "\n",
       "    .dataframe tbody tr th {\n",
       "        vertical-align: top;\n",
       "    }\n",
       "\n",
       "    .dataframe thead th {\n",
       "        text-align: right;\n",
       "    }\n",
       "</style>\n",
       "<table border=\"1\" class=\"dataframe\">\n",
       "  <thead>\n",
       "    <tr style=\"text-align: right;\">\n",
       "      <th></th>\n",
       "      <th>Number</th>\n",
       "      <th>Node</th>\n",
       "      <th>WebSite</th>\n",
       "      <th>Unnamed: 3</th>\n",
       "    </tr>\n",
       "  </thead>\n",
       "  <tbody>\n",
       "    <tr>\n",
       "      <th>0</th>\n",
       "      <td>n</td>\n",
       "      <td>0</td>\n",
       "      <td>http://www.berkeley.edu/</td>\n",
       "      <td>NaN</td>\n",
       "    </tr>\n",
       "    <tr>\n",
       "      <th>1</th>\n",
       "      <td>n</td>\n",
       "      <td>1</td>\n",
       "      <td>http://www.caltech.edu/</td>\n",
       "      <td>NaN</td>\n",
       "    </tr>\n",
       "    <tr>\n",
       "      <th>2</th>\n",
       "      <td>n</td>\n",
       "      <td>2</td>\n",
       "      <td>http://www.realestatenet.com/</td>\n",
       "      <td>NaN</td>\n",
       "    </tr>\n",
       "    <tr>\n",
       "      <th>3</th>\n",
       "      <td>n</td>\n",
       "      <td>3</td>\n",
       "      <td>http://www.ucsb.edu/</td>\n",
       "      <td>NaN</td>\n",
       "    </tr>\n",
       "    <tr>\n",
       "      <th>4</th>\n",
       "      <td>n</td>\n",
       "      <td>4</td>\n",
       "      <td>http://www.washingtonpost.com/wp-srv/national/...</td>\n",
       "      <td>NaN</td>\n",
       "    </tr>\n",
       "  </tbody>\n",
       "</table>\n",
       "</div>"
      ],
      "text/plain": [
       "  Number  Node                                            WebSite  Unnamed: 3\n",
       "0      n     0                           http://www.berkeley.edu/         NaN\n",
       "1      n     1                            http://www.caltech.edu/         NaN\n",
       "2      n     2                      http://www.realestatenet.com/         NaN\n",
       "3      n     3                               http://www.ucsb.edu/         NaN\n",
       "4      n     4  http://www.washingtonpost.com/wp-srv/national/...         NaN"
      ]
     },
     "execution_count": 40,
     "metadata": {},
     "output_type": "execute_result"
    }
   ],
   "source": [
    "nodes.head()"
   ]
  },
  {
   "cell_type": "code",
   "execution_count": 41,
   "id": "6bd7f6b3-4a9d-4d57-a4e9-98a3445aeed3",
   "metadata": {},
   "outputs": [],
   "source": [
    "#drop useless columns\n",
    "nodes = nodes.drop(columns=[\"Number\",\"Unnamed: 3\"])"
   ]
  },
  {
   "cell_type": "code",
   "execution_count": 42,
   "id": "99879760-c40c-4218-9a67-76876e4cb007",
   "metadata": {},
   "outputs": [
    {
     "data": {
      "text/html": [
       "<div>\n",
       "<style scoped>\n",
       "    .dataframe tbody tr th:only-of-type {\n",
       "        vertical-align: middle;\n",
       "    }\n",
       "\n",
       "    .dataframe tbody tr th {\n",
       "        vertical-align: top;\n",
       "    }\n",
       "\n",
       "    .dataframe thead th {\n",
       "        text-align: right;\n",
       "    }\n",
       "</style>\n",
       "<table border=\"1\" class=\"dataframe\">\n",
       "  <thead>\n",
       "    <tr style=\"text-align: right;\">\n",
       "      <th></th>\n",
       "      <th>Node</th>\n",
       "      <th>WebSite</th>\n",
       "    </tr>\n",
       "  </thead>\n",
       "  <tbody>\n",
       "    <tr>\n",
       "      <th>0</th>\n",
       "      <td>0</td>\n",
       "      <td>http://www.berkeley.edu/</td>\n",
       "    </tr>\n",
       "    <tr>\n",
       "      <th>1</th>\n",
       "      <td>1</td>\n",
       "      <td>http://www.caltech.edu/</td>\n",
       "    </tr>\n",
       "    <tr>\n",
       "      <th>2</th>\n",
       "      <td>2</td>\n",
       "      <td>http://www.realestatenet.com/</td>\n",
       "    </tr>\n",
       "    <tr>\n",
       "      <th>3</th>\n",
       "      <td>3</td>\n",
       "      <td>http://www.ucsb.edu/</td>\n",
       "    </tr>\n",
       "    <tr>\n",
       "      <th>4</th>\n",
       "      <td>4</td>\n",
       "      <td>http://www.washingtonpost.com/wp-srv/national/...</td>\n",
       "    </tr>\n",
       "  </tbody>\n",
       "</table>\n",
       "</div>"
      ],
      "text/plain": [
       "   Node                                            WebSite\n",
       "0     0                           http://www.berkeley.edu/\n",
       "1     1                            http://www.caltech.edu/\n",
       "2     2                      http://www.realestatenet.com/\n",
       "3     3                               http://www.ucsb.edu/\n",
       "4     4  http://www.washingtonpost.com/wp-srv/national/..."
      ]
     },
     "execution_count": 42,
     "metadata": {},
     "output_type": "execute_result"
    }
   ],
   "source": [
    "nodes.head()"
   ]
  },
  {
   "cell_type": "markdown",
   "id": "31a414c5-3d60-4326-bca3-7e13fc20a4c9",
   "metadata": {},
   "source": [
    "Let's now read the links"
   ]
  },
  {
   "cell_type": "code",
   "execution_count": 43,
   "id": "2a98c6d3-70bd-4ef6-8051-4162845e854e",
   "metadata": {},
   "outputs": [],
   "source": [
    "# read all the edges that involve \n",
    "edges = pd.read_csv('GraphDB.txt',\n",
    "                     sep = ' ',\n",
    "                     skiprows = 9665)"
   ]
  },
  {
   "cell_type": "code",
   "execution_count": 44,
   "id": "56a37cc7-dad0-489c-a20c-73853e0b75d2",
   "metadata": {},
   "outputs": [
    {
     "data": {
      "text/html": [
       "<div>\n",
       "<style scoped>\n",
       "    .dataframe tbody tr th:only-of-type {\n",
       "        vertical-align: middle;\n",
       "    }\n",
       "\n",
       "    .dataframe tbody tr th {\n",
       "        vertical-align: top;\n",
       "    }\n",
       "\n",
       "    .dataframe thead th {\n",
       "        text-align: right;\n",
       "    }\n",
       "</style>\n",
       "<table border=\"1\" class=\"dataframe\">\n",
       "  <thead>\n",
       "    <tr style=\"text-align: right;\">\n",
       "      <th></th>\n",
       "      <th>Number</th>\n",
       "      <th>InEdge</th>\n",
       "      <th>OutEdge</th>\n",
       "    </tr>\n",
       "  </thead>\n",
       "  <tbody>\n",
       "    <tr>\n",
       "      <th>0</th>\n",
       "      <td>e</td>\n",
       "      <td>0</td>\n",
       "      <td>449</td>\n",
       "    </tr>\n",
       "    <tr>\n",
       "      <th>1</th>\n",
       "      <td>e</td>\n",
       "      <td>0</td>\n",
       "      <td>450</td>\n",
       "    </tr>\n",
       "    <tr>\n",
       "      <th>2</th>\n",
       "      <td>e</td>\n",
       "      <td>0</td>\n",
       "      <td>451</td>\n",
       "    </tr>\n",
       "    <tr>\n",
       "      <th>3</th>\n",
       "      <td>e</td>\n",
       "      <td>0</td>\n",
       "      <td>452</td>\n",
       "    </tr>\n",
       "    <tr>\n",
       "      <th>4</th>\n",
       "      <td>e</td>\n",
       "      <td>0</td>\n",
       "      <td>453</td>\n",
       "    </tr>\n",
       "  </tbody>\n",
       "</table>\n",
       "</div>"
      ],
      "text/plain": [
       "  Number  InEdge  OutEdge\n",
       "0      e       0      449\n",
       "1      e       0      450\n",
       "2      e       0      451\n",
       "3      e       0      452\n",
       "4      e       0      453"
      ]
     },
     "execution_count": 44,
     "metadata": {},
     "output_type": "execute_result"
    }
   ],
   "source": [
    "edges.head()"
   ]
  },
  {
   "cell_type": "code",
   "execution_count": 45,
   "id": "eb8012b1-b10c-493b-b318-a46ca772bb75",
   "metadata": {},
   "outputs": [
    {
     "data": {
      "text/plain": [
       "(16150, 3)"
      ]
     },
     "execution_count": 45,
     "metadata": {},
     "output_type": "execute_result"
    }
   ],
   "source": [
    "edges.shape"
   ]
  },
  {
   "cell_type": "code",
   "execution_count": 46,
   "id": "4508a363-36ba-48b6-82bb-ebdd2a574bdc",
   "metadata": {},
   "outputs": [],
   "source": [
    "edges = edges.drop(columns=['Number'])"
   ]
  },
  {
   "cell_type": "code",
   "execution_count": 47,
   "id": "c9ade2d3-dc5e-48dd-8346-aabc581561b2",
   "metadata": {},
   "outputs": [],
   "source": [
    "nodes['Node'] = pd.to_numeric(nodes['Node'])\n",
    "edges['InEdge'] = pd.to_numeric(edges['InEdge'])\n",
    "edges['OutEdge'] = pd.to_numeric(edges['OutEdge'])"
   ]
  },
  {
   "cell_type": "markdown",
   "id": "38a2aafe-e730-4736-b859-cbfa3ae0dbc8",
   "metadata": {},
   "source": [
    "## Graph Class\n",
    "\n",
    "A simple implementation of graph object"
   ]
  },
  {
   "cell_type": "code",
   "execution_count": 48,
   "id": "5224d0b5-01c9-4f75-8a56-69d4ecc43ef1",
   "metadata": {},
   "outputs": [],
   "source": [
    "class graph:\n",
    "    \n",
    "    def __init__(self, gdict=None):\n",
    "        '''\n",
    "        Input:\n",
    "        \n",
    "        gdict: dictionary where keys are the nodes in the graph\n",
    "        and the values are the lists of reachable nodes\n",
    "        '''\n",
    "        \n",
    "        if gdict is None:\n",
    "            gdict = {}\n",
    "        \n",
    "        self.gdict = gdict\n",
    "    \n",
    "    #Retrieve the nodes of the graph\n",
    "    def GetNodes(self) -> list: \n",
    "        return list(self.gdict.keys())\n",
    "\n",
    "    #Retrieve outcoming egdes\n",
    "    def GetReachableNodes(self, node: int) -> list: \n",
    "        '''\n",
    "        Input:\n",
    "        \n",
    "        node: an int representing the starting node\n",
    "        '''\n",
    "        try:\n",
    "            out = list(self.gdict[node])\n",
    "            return out \n",
    "        except:\n",
    "            print(f\"Error: node {node} is not in the graph!\")\n",
    "    "
   ]
  },
  {
   "cell_type": "markdown",
   "id": "4840ac60-e813-4873-b78c-702ada6b1bbc",
   "metadata": {},
   "source": [
    "Now we can construct a dictionary where the keys are the nodes in the graph and the values are the lists with the outgoing edges relative to the key node"
   ]
  },
  {
   "cell_type": "code",
   "execution_count": 49,
   "id": "76d8de3e-11b2-4d44-b3a3-eac1eea7edaf",
   "metadata": {},
   "outputs": [],
   "source": [
    "# construct a dict for our graph \n",
    "\n",
    "gdict = {int(v) : [int(e) for e in edges.OutEdge[edges.InEdge == v]] for v in nodes.Node}"
   ]
  },
  {
   "cell_type": "markdown",
   "id": "93ca309a-03c9-45a6-98b2-a6fbb7e2379a",
   "metadata": {},
   "source": [
    "Save the data"
   ]
  },
  {
   "cell_type": "code",
   "execution_count": 50,
   "id": "8cb3948e-d48e-4ff1-a879-89c39ab4926d",
   "metadata": {},
   "outputs": [
    {
     "data": {
      "text/plain": [
       "\"\\n# to read it back\\n\\nwith open('dict.csv') as csv_file:\\n    reader = csv.reader(csv_file)\\n    mydict = dict(reader)\\n\""
      ]
     },
     "execution_count": 50,
     "metadata": {},
     "output_type": "execute_result"
    }
   ],
   "source": [
    "import csv\n",
    "\n",
    "# save the dict\n",
    "with open('dict.csv', 'w') as csv_file:  \n",
    "    writer = csv.writer(csv_file)\n",
    "    for key, value in gdict.items():\n",
    "        writer.writerow([key, value])\n",
    "    \n",
    "\n",
    "'''\n",
    "# to read it back\n",
    "\n",
    "with open('dict.csv') as csv_file:\n",
    "    reader = csv.reader(csv_file)\n",
    "    mydict = dict(reader)\n",
    "'''"
   ]
  },
  {
   "cell_type": "code",
   "execution_count": 51,
   "id": "68e3fe79-d2b6-4323-8322-52a8026da683",
   "metadata": {},
   "outputs": [],
   "source": [
    "# instanciate a graph object for our graph\n",
    "g = graph(gdict)"
   ]
  },
  {
   "cell_type": "markdown",
   "id": "e6bf955e-0a77-4b0c-b1d7-91a4722d816f",
   "metadata": {},
   "source": [
    "### PageRank Algorithm\n",
    "\n",
    "The algorithm models the behavior of the generic user as a random path in the graph where, once the user lands on a node, it will either move to a linked page with probability (1 - $\\alpha$) or randomly jump towards any node in the graph with probability $\\alpha$.\n",
    "\n",
    "Formally we get a Markov Chain whose transition matrix is: $$ P = \\alpha 1^T J + (1-\\alpha) R$$ where J is a constant vector for the random jumps while R stores the information about the topology of the graph.\n",
    "\n",
    "The algorithm aims at computing the weight vector $\\pi$, which, given the topology of the graph, assignes to each website a score, so that we can retrieve the most important websites and rank them.\n",
    "\n",
    "The weight vector $\\pi$ is the stationary distribution of the associated Markov Chain and, formally, the unique stochastic eigenvector associated to the aigenvalue 1, solution of: $$x P = x.$$\n",
    "\n",
    "### Solving the Linear System\n",
    "\n",
    "Since P has usually millions of rows we can not directly solve the system, instead we use an iterative method.\n",
    "\n",
    "Let $\\pi_0$ be an initial guest for the score vector and let $\\epsilon$ be a fixed tolerance. Do\n",
    "$$\\pi_{t+1} = \\pi_{t} P$$\n",
    "While\n",
    "$$ | \\pi_{t+1} - \\pi_{t} | \\geq \\epsilon \\quad \\quad \\quad t = 0,1,2,...$$\n",
    "\n",
    "### Topic specific PageRank\n",
    "\n",
    "We can force the user to jump only in a finite subset of webpages, ideally related to a specific topic, by modifying the jump vector.\n",
    "If S is the subset of topic specific pages: \n",
    "$$ (J_S)_{i} = \n",
    "\\begin{cases}\n",
    "  \\frac{1}{|S|} & i \\in S \\\\\n",
    "       0 & \\text{otherwise} \n",
    "\\end{cases}\n",
    "$$\n",
    "And now solve the system with: $$P_S = \\alpha 1^T J_S + (1-\\alpha) R$$"
   ]
  },
  {
   "cell_type": "code",
   "execution_count": 52,
   "id": "a6db2805-2f52-4b7a-afe5-9ff6d396a3b8",
   "metadata": {},
   "outputs": [],
   "source": [
    "def PageRank(R, alpha = .2, J = None, S: list = None, x_0 = None, eps = 10**(-2)):\n",
    "    '''\n",
    "    Implementation of the PageRank algorithm using an iterative\n",
    "    method.\n",
    "    \n",
    "    Inputs:\n",
    "    \n",
    "    R:       stochastic transition matrix\n",
    "    alpha:   damping factor\n",
    "    J:       jump vector\n",
    "    S:       list of pages specific to a certain topic\n",
    "    x_0:     initial guest\n",
    "    eps:     precision\n",
    "    \n",
    "    Outputs:\n",
    "    \n",
    "    pi:      PageRank vector\n",
    "    error:   approximation error at every iteration\n",
    "    it:      number of iterations to reach convergence\n",
    "    '''\n",
    "    \n",
    "    # number of nodes\n",
    "    tmp = R.shape[0]\n",
    "    \n",
    "    # initialize x_0\n",
    "    if x_0 is None:\n",
    "        x_0 = np.random.rand(1,tmp)\n",
    "    \n",
    "    # initialize J/J_{S}\n",
    "    if S is not None:\n",
    "        # the number of pages specific to a certain topic\n",
    "        # can not be greater than the overall number of\n",
    "        # pages in the dataset  \n",
    "        assert len(S) <= R.shape[0] \n",
    "        \n",
    "        # if S is given than J must be None since it would be\n",
    "        # automatically deduced from S\n",
    "        assert J is None\n",
    "        J = np.array([1/len(S) if i in S else 0 for i in range(tmp)])\n",
    "        \n",
    "    else:\n",
    "        if J is None:\n",
    "            # basic version of J with equal probabilities\n",
    "            J = np.ones(shape=(1,tmp)) * (1/tmp)\n",
    "    \n",
    "    J = np.reshape(J, (1,tmp))\n",
    "    \n",
    "    # initialize x_{t+1}\n",
    "    pi = x_0 + 1\n",
    "    \n",
    "    # initialize 1^T\n",
    "    one_vector = np.ones(shape=(tmp,1))\n",
    "    \n",
    "    # initialize the error vector\n",
    "    error = [np.linalg.norm( pi - x_0 )]\n",
    "    \n",
    "    # iterative matrix\n",
    "    P = alpha * np.matmul(one_vector, J) + (1 - alpha) * R\n",
    "    \n",
    "    # initialize the number of itetations\n",
    "    it = 1\n",
    "    \n",
    "    while np.linalg.norm( pi - x_0 ) >= eps:\n",
    "        # do computations\n",
    "        _ = np.matmul(x_0, P)\n",
    "        \n",
    "        # update\n",
    "        x_0 = pi\n",
    "        pi = _\n",
    "        \n",
    "        error.append(np.linalg.norm( pi - x_0))\n",
    "        it += 1\n",
    "        \n",
    "    return pi.flatten(), error, it\n",
    "        \n",
    "        "
   ]
  },
  {
   "cell_type": "markdown",
   "id": "86538d31-2448-455f-bfcc-319ab59c8d1e",
   "metadata": {},
   "source": [
    "### Construct R"
   ]
  },
  {
   "cell_type": "code",
   "execution_count": 53,
   "id": "56a4e2db-d497-4cac-9478-d7fc468feeeb",
   "metadata": {},
   "outputs": [],
   "source": [
    "num_nodes = len(g.GetNodes())\n",
    "\n",
    "R = np.zeros(shape = (num_nodes,num_nodes))\n",
    "\n",
    "for i in range(num_nodes):\n",
    "    # whenever there is a link fron node i to node j\n",
    "    # we set R[i][j] = 1/len(g.gdict[i]).\n",
    "    # However this quantity depends only on i, so that we\n",
    "    # can avoid to compute it for every j. Such quantity may not\n",
    "    # exist for nodes without outcoming edges, but in such case\n",
    "    # R[i][j] = 0 for every j and so (because of how we initialized R)\n",
    "    # we don't need to perform any update\n",
    "    try:\n",
    "        r_i_j = 1/len(g.gdict[i])\n",
    "    except:\n",
    "        continue\n",
    "        \n",
    "    for j in range(num_nodes):\n",
    "        if j in g.gdict[i]:\n",
    "            R[i,j] = r_i_j"
   ]
  },
  {
   "cell_type": "code",
   "execution_count": 54,
   "id": "1af1740a-c6c0-4986-8af0-e89ec8ee84bf",
   "metadata": {},
   "outputs": [
    {
     "data": {
      "text/plain": [
       "(9664, 9664)"
      ]
     },
     "execution_count": 54,
     "metadata": {},
     "output_type": "execute_result"
    }
   ],
   "source": [
    "R.shape"
   ]
  },
  {
   "cell_type": "markdown",
   "id": "e2b3881a-544e-4187-a33b-917f4bf20a30",
   "metadata": {},
   "source": [
    "### Let's try the algorithm on our data"
   ]
  },
  {
   "cell_type": "code",
   "execution_count": 55,
   "id": "d399aafc-cfb6-4200-8a1a-2cbf4a653cdf",
   "metadata": {},
   "outputs": [
    {
     "name": "stdout",
     "output_type": "stream",
     "text": [
      "Wall time: 4.4 s\n"
     ]
    }
   ],
   "source": [
    "%%time\n",
    "pi, error, it = PageRank(R)"
   ]
  },
  {
   "cell_type": "markdown",
   "id": "cd0051ff-a452-4ea6-bc8b-ad9f9440d57b",
   "metadata": {},
   "source": [
    "Plot the error at every iteration"
   ]
  },
  {
   "cell_type": "code",
   "execution_count": 56,
   "id": "9f3032dd-7712-4279-b254-a17501b38bce",
   "metadata": {},
   "outputs": [
    {
     "data": {
      "image/png": "[encoded data removed]",
      "text/plain": [
       "<Figure size 432x288 with 1 Axes>"
      ]
     },
     "metadata": {
      "needs_background": "light"
     },
     "output_type": "display_data"
    }
   ],
   "source": [
    "import matplotlib.pyplot as plt\n",
    "\n",
    "\n",
    "plt.plot(error)\n",
    "plt.xlabel(\"Iterations\")\n",
    "plt.ylabel(\"Error\")\n",
    "plt.title(\"l2 norm of the error\")\n",
    "plt.grid(True)\n",
    "plt.show()"
   ]
  },
  {
   "cell_type": "markdown",
   "id": "d785704a-715d-44e5-9ab6-16640c20fb16",
   "metadata": {},
   "source": [
    "How many iteration did the algorithm need to converge?"
   ]
  },
  {
   "cell_type": "code",
   "execution_count": 57,
   "id": "5ac0a7e2-77ec-4603-850b-81fae270bb4e",
   "metadata": {},
   "outputs": [
    {
     "data": {
      "text/plain": [
       "87"
      ]
     },
     "execution_count": 57,
     "metadata": {},
     "output_type": "execute_result"
    }
   ],
   "source": [
    "it"
   ]
  },
  {
   "cell_type": "markdown",
   "id": "eba79d2b-7443-483f-bb8d-3814f478772b",
   "metadata": {},
   "source": [
    "## What are the top 10 websites?"
   ]
  },
  {
   "cell_type": "code",
   "execution_count": 63,
   "id": "d4fb9ad5-b9d1-4630-b8eb-6770cd6c0a1b",
   "metadata": {},
   "outputs": [
    {
     "data": {
      "text/plain": [
       "['http://www.ucdavis.edu/',\n",
       " 'http://search.ucdavis.edu/',\n",
       " 'http://www.uci.edu/',\n",
       " 'http://www.calacademy.org/',\n",
       " 'http://www.lib.uci.edu/',\n",
       " 'http://spectacle.berkeley.edu/',\n",
       " 'http://vision.berkeley.edu/VSP/index.shtml',\n",
       " 'http://www.gene.com/ae/bioforum/',\n",
       " 'http://www.ucr.edu/',\n",
       " 'http://www.students.ucr.edu/']"
      ]
     },
     "execution_count": 63,
     "metadata": {},
     "output_type": "execute_result"
    }
   ],
   "source": [
    "TopWebSites = [x for _, x in sorted(zip(pi, list(nodes.WebSite)), key=lambda pair: pair[0],reverse=True)]\n",
    "TopWebSites[:10]"
   ]
  },
  {
   "cell_type": "code",
   "execution_count": 21,
   "id": "1fd6a74e-2b0d-425b-aff3-f16c981415d9",
   "metadata": {},
   "outputs": [
    {
     "data": {
      "image/png": "[encoded data removed]",
      "text/plain": [
       "<Figure size 432x288 with 1 Axes>"
      ]
     },
     "metadata": {
      "needs_background": "light"
     },
     "output_type": "display_data"
    }
   ],
   "source": [
    "plt.plot(pi)\n",
    "plt.title(\"Weight Vector\")\n",
    "plt.grid(True)\n",
    "plt.xlabel(\"Website ID\")\n",
    "plt.ylabel(\"Score\")\n",
    "plt.show(True)"
   ]
  },
  {
   "cell_type": "markdown",
   "id": "d9c29cfa-161e-4be5-9277-6cc180db76eb",
   "metadata": {},
   "source": [
    "### Topic Specific PageRank Experiments\n",
    "\n",
    "Assume we restrict to the first 10 websites"
   ]
  },
  {
   "cell_type": "code",
   "execution_count": 22,
   "id": "6580d576-c324-478a-b509-23f40ad9cbd1",
   "metadata": {},
   "outputs": [],
   "source": [
    "pi_TS_1, *_ = PageRank(R, S=list(range(10)))"
   ]
  },
  {
   "cell_type": "code",
   "execution_count": 23,
   "id": "004f3982-a864-4b39-95ee-5339a47c5bcb",
   "metadata": {},
   "outputs": [
    {
     "data": {
      "image/png": "[encoded data removed]",
      "text/plain": [
       "<Figure size 432x288 with 1 Axes>"
      ]
     },
     "metadata": {
      "needs_background": "light"
     },
     "output_type": "display_data"
    }
   ],
   "source": [
    "plt.plot(pi_TS_1[:30], color=\"blue\", label=\"Topic Specific\")\n",
    "plt.plot(pi[:30], color=\"red\", label=\"Default\")\n",
    "plt.legend()\n",
    "plt.grid(True)\n",
    "plt.xlabel(\"First 30 websites\")\n",
    "plt.ylabel(\"Score\")\n",
    "plt.title(\"Topic Specific vs Default\")\n",
    "plt.show()"
   ]
  },
  {
   "cell_type": "markdown",
   "id": "73c07a7f-33c5-4251-9f4c-31f9e087491d",
   "metadata": {},
   "source": [
    "We can immidiately see that in the case of TSPR the first 10 websites are now more important. Excluded websites that were previously important, like the number 17, is a clear example of node that has still a positive score but lowered."
   ]
  },
  {
   "cell_type": "code",
   "execution_count": 24,
   "id": "8f711324-20f8-4c8f-9661-97c0dfc56739",
   "metadata": {},
   "outputs": [
    {
     "data": {
      "image/png": "[encoded data removed]",
      "text/plain": [
       "<Figure size 432x288 with 1 Axes>"
      ]
     },
     "metadata": {
      "needs_background": "light"
     },
     "output_type": "display_data"
    }
   ],
   "source": [
    "plt.plot(pi_TS_1, color=\"blue\", label=\"Topic Specific\")\n",
    "plt.plot(pi, color=\"red\", label=\"Default\")\n",
    "plt.legend()\n",
    "plt.grid(True)\n",
    "plt.xlabel(\"First 30 websites\")\n",
    "plt.ylabel(\"Score\")\n",
    "plt.title(\"Topic Specific vs Default\")\n",
    "plt.show()"
   ]
  },
  {
   "cell_type": "markdown",
   "id": "b1b58b34-f040-4e53-9cdd-55753a782fb1",
   "metadata": {},
   "source": [
    "Let's restrict to the websites from 10 to 20"
   ]
  },
  {
   "cell_type": "code",
   "execution_count": 25,
   "id": "fbae1a2a-e464-4ad4-97c2-6fb102d2692a",
   "metadata": {},
   "outputs": [],
   "source": [
    "pi_TS_2, *_ = PageRank(R, S=list(range(10,20)))"
   ]
  },
  {
   "cell_type": "code",
   "execution_count": 26,
   "id": "c4c6ddb9-c550-47f4-a24d-8f6db0eaa5ca",
   "metadata": {},
   "outputs": [
    {
     "data": {
      "image/png": "[encoded data removed]",
      "text/plain": [
       "<Figure size 432x288 with 1 Axes>"
      ]
     },
     "metadata": {
      "needs_background": "light"
     },
     "output_type": "display_data"
    }
   ],
   "source": [
    "plt.plot(pi_TS_2[:30], color=\"blue\", label=\"Topic Specific\")\n",
    "plt.plot(pi[:30], color=\"red\", label=\"Default\")\n",
    "plt.legend()\n",
    "plt.grid(True)\n",
    "plt.xlabel(\"First 30 websites\")\n",
    "plt.ylabel(\"Score\")\n",
    "plt.title(\"Topic Specific vs Default\")\n",
    "plt.show()"
   ]
  },
  {
   "cell_type": "code",
   "execution_count": 27,
   "id": "dff022a4-1ab4-4fb6-8ad2-25d50b491981",
   "metadata": {},
   "outputs": [
    {
     "data": {
      "image/png": "[encoded data removed]",
      "text/plain": [
       "<Figure size 432x288 with 1 Axes>"
      ]
     },
     "metadata": {
      "needs_background": "light"
     },
     "output_type": "display_data"
    }
   ],
   "source": [
    "plt.plot(pi_TS_2, color=\"blue\", label=\"Topic Specific\")\n",
    "plt.plot(pi, color=\"red\", label=\"Default\")\n",
    "plt.legend()\n",
    "plt.grid(True)\n",
    "plt.xlabel(\"Websites\")\n",
    "plt.ylabel(\"Score\")\n",
    "plt.title(\"Topic Specific vs Default\")\n",
    "plt.show()"
   ]
  },
  {
   "cell_type": "markdown",
   "id": "2dcef345-bf7b-416e-b752-a295d68c5726",
   "metadata": {},
   "source": [
    "Let's now consider a random sample of size 100"
   ]
  },
  {
   "cell_type": "code",
   "execution_count": 28,
   "id": "23cdb7e8-4cf7-41e1-a8ef-4eb5301b6f76",
   "metadata": {},
   "outputs": [],
   "source": [
    "from random import sample\n",
    "pi_TS_3, *_ = PageRank(R, S=list(sample(range(9664),100)))"
   ]
  },
  {
   "cell_type": "code",
   "execution_count": 29,
   "id": "9ffb89df-33b7-4939-8571-66af30206209",
   "metadata": {},
   "outputs": [
    {
     "data": {
      "image/png": "[encoded data removed]",
      "text/plain": [
       "<Figure size 432x288 with 1 Axes>"
      ]
     },
     "metadata": {
      "needs_background": "light"
     },
     "output_type": "display_data"
    }
   ],
   "source": [
    "plt.plot(pi_TS_3, color=\"blue\", label=\"Topic Specific\")\n",
    "plt.plot(pi, color=\"red\", label=\"Default\")\n",
    "plt.legend()\n",
    "plt.grid(True)\n",
    "plt.xlabel(\"Websites\")\n",
    "plt.ylabel(\"Score\")\n",
    "plt.title(\"Topic Specific vs Default\")\n",
    "plt.show()"
   ]
  },
  {
   "cell_type": "markdown",
   "id": "56b1ee99-9652-4eec-9592-eccd7a1b2df0",
   "metadata": {},
   "source": [
    "Since the Topic Specific websites were selected at random the final effect is basically that we averaged the scores all over the nodes, with only a few very important websites"
   ]
  },
  {
   "cell_type": "markdown",
   "id": "7ccb97b2-f122-4308-9efd-3a191885d519",
   "metadata": {},
   "source": [
    "### Experiments for various values of $\\alpha$"
   ]
  },
  {
   "cell_type": "code",
   "execution_count": 30,
   "id": "7f0f11ea-937a-426f-bbfc-3abac23d92a1",
   "metadata": {},
   "outputs": [],
   "source": [
    "pi = []\n",
    "it = []\n",
    "alpha = [.01,.1,.3,.5,.7,.9,.99]\n",
    "\n",
    "for a in alpha:\n",
    "    pi_, _, it_ = PageRank(R, alpha = a)\n",
    "    pi.append(pi_)\n",
    "    it.append(it_)"
   ]
  },
  {
   "cell_type": "code",
   "execution_count": 31,
   "id": "cc541380-7c30-49b6-84e3-3296135f467e",
   "metadata": {},
   "outputs": [
    {
     "data": {
      "image/png": "[encoded data removed]",
      "text/plain": [
       "<Figure size 432x288 with 1 Axes>"
      ]
     },
     "metadata": {
      "needs_background": "light"
     },
     "output_type": "display_data"
    },
    {
     "data": {
      "image/png": "[encoded data removed]",
      "text/plain": [
       "<Figure size 432x288 with 1 Axes>"
      ]
     },
     "metadata": {
      "needs_background": "light"
     },
     "output_type": "display_data"
    }
   ],
   "source": [
    "for i, a in enumerate(alpha[:4]):\n",
    "    plt.plot(pi[i], label=f\"alpha = {str(a)}\")\n",
    "plt.title(\"Weight vectors\")\n",
    "plt.xlabel(\"Websites\")\n",
    "plt.ylabel(\"Score\")\n",
    "plt.legend()\n",
    "plt.grid(True)\n",
    "plt.show()\n",
    "\n",
    "for i, a in enumerate(alpha[4:]):\n",
    "    plt.plot(pi[i], label=f\"alpha = {str(a)}\")\n",
    "plt.title(\"Weight vectors\")\n",
    "plt.xlabel(\"Websites\")\n",
    "plt.ylabel(\"Score\")\n",
    "plt.legend()\n",
    "plt.grid(True)"
   ]
  },
  {
   "cell_type": "code",
   "execution_count": 32,
   "id": "65e220c7-0df1-4993-8c46-a1fe7cb946ba",
   "metadata": {},
   "outputs": [
    {
     "data": {
      "image/png": "[encoded data removed]",
      "text/plain": [
       "<Figure size 432x288 with 1 Axes>"
      ]
     },
     "metadata": {
      "needs_background": "light"
     },
     "output_type": "display_data"
    }
   ],
   "source": [
    "plt.plot(alpha,it)\n",
    "plt.title(\"Iterations vs alpha\")\n",
    "plt.xlabel(\"alpha\")\n",
    "plt.ylabel(\"Iterations\")\n",
    "plt.grid(True)\n",
    "plt.show()"
   ]
  },
  {
   "cell_type": "markdown",
   "id": "0340bc0c-419d-4595-a190-2be266597516",
   "metadata": {},
   "source": [
    "I can conclude that the greater the value of $\\alpha$ the more uniform the distribution of the weights is. A greater $\\alpha$ means greater probability of randomly jumping from one node to another and so all the nodes tend to achieve similar importance; moreover it looks like extreme values of $\\alpha$ imply more iterations to reach convergence."
   ]
  }
 ],
 "metadata": {
  "kernelspec": {
   "display_name": "Python 3",
   "language": "python",
   "name": "python3"
  },
  "language_info": {
   "codemirror_mode": {
    "name": "ipython",
    "version": 3
   },
   "file_extension": ".py",
   "mimetype": "text/x-python",
   "name": "python",
   "nbconvert_exporter": "python",
   "pygments_lexer": "ipython3",
   "version": "3.8.8"
  }
 },
 "nbformat": 4,
 "nbformat_minor": 5
}
